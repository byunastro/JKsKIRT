{
 "cells": [
  {
   "cell_type": "markdown",
   "metadata": {},
   "source": [
    "# Import Libraries"
   ]
  },
  {
   "cell_type": "code",
   "execution_count": 1,
   "metadata": {
    "ExecuteTime": {
     "end_time": "2024-04-11T06:30:10.178685Z",
     "start_time": "2024-04-11T06:30:08.626474Z"
    }
   },
   "outputs": [],
   "source": [
    "import os\n",
    "import sys\n",
    "from importlib import reload\n",
    "\n",
    "import numpy as np\n",
    "from matplotlib.pyplot as plt\n",
    "\n",
    "GFE_DIR = '/home/jangjk/'\n",
    "sys.path.append(GFE_DIR)\n",
    "import GFE_SKIRT as gskirt\n",
    "\n",
    "from rur import uri, uhmi"
   ]
  },
  {
   "cell_type": "markdown",
   "metadata": {},
   "source": [
    "# Test"
   ]
  },
  {
   "cell_type": "markdown",
   "metadata": {},
   "source": [
    "## load sim raw data"
   ]
  },
  {
   "cell_type": "code",
   "execution_count": 2,
   "metadata": {
    "ExecuteTime": {
     "end_time": "2024-04-11T06:30:10.183452Z",
     "start_time": "2024-04-11T06:30:10.180563Z"
    }
   },
   "outputs": [],
   "source": [
    "nout = 341\n",
    "\n",
    "repo = '/storage7/NewCluster'\n",
    "path_in_repo = 'snapshots'\n",
    "mode = 'nc'\n",
    "\n",
    "boxrad = 15*np.sqrt(3)"
   ]
  },
  {
   "cell_type": "code",
   "execution_count": 3,
   "metadata": {
    "ExecuteTime": {
     "end_time": "2024-04-11T06:30:10.198633Z",
     "start_time": "2024-04-11T06:30:10.185424Z"
    }
   },
   "outputs": [
    {
     "name": "stdout",
     "output_type": "stream",
     "text": [
      "[Output 00341] Age (Gyr) : 4.827 / 13.761, z = 1.33203 (a = 0.4288)\n"
     ]
    }
   ],
   "source": [
    "snap = uri.RamsesSnapshot(repo=repo, \n",
    "                          path_in_repo=path_in_repo, \n",
    "                          iout=nout, \n",
    "                          mode=mode, \n",
    "                          longint=False)\n",
    "\n",
    "#boxtokpc = 1/snap.unit['kpc']#/snap.params['aexp']"
   ]
  },
  {
   "cell_type": "code",
   "execution_count": 4,
   "metadata": {
    "ExecuteTime": {
     "end_time": "2024-04-11T06:30:13.172666Z",
     "start_time": "2024-04-11T06:30:10.200221Z"
    }
   },
   "outputs": [
    {
     "name": "stdout",
     "output_type": "stream",
     "text": [
      "[ 518  188    9  894  524  506  418  439  120  288  111  333   94  306\n",
      "  334  425   58  264   67  562  367   99   46  270  646   53  341  697\n",
      "  249  629  198  263  100  289   41  350  160  392  436 3794 4085   20\n",
      "  446  116  133   75  237   76  577  512  443  401  134  243   30  269\n",
      "  497   57  541  476   54   70  301   78   47  195  423 2976   25    2\n",
      "  296  377 4387  328  107  340  235   72  317  387  262  143   37  138\n",
      " 4362   87  139   79  654  432   44  124  208   81  596  101    6   40\n",
      "   32   85 4869  155   11   92   66  106   97   29  311 3763  197  204\n",
      "  245   52 3745   71    1   33 4384   84   89   98   50 4284   77  164\n",
      "   36  324   64    7   80   14  167   13   31   88    4   22 3919  162\n",
      " 3911   42    8  141   21   23   17 4190   27   12    3   19   18   15\n",
      "   10    5]\n"
     ]
    }
   ],
   "source": [
    "gals_tot, pid = uhmi.HaloMaker.load( snap, \n",
    "                                    galaxy=True,\n",
    "                                    load_parts=True,\n",
    "                                    double_precision=True)\n",
    "gals_tot.sort(order='m')"
   ]
  },
  {
   "cell_type": "code",
   "execution_count": null,
   "metadata": {},
   "outputs": [],
   "source": [
    "mlow = 10\n",
    "mupp = 13\n",
    "\n",
    "gals = gals_tot[(10**mlow<=gals_tot['mvir'])*(gals_tot['mvir']<10**mupp)]\n",
    "print(gals['id'])"
   ]
  },
  {
   "cell_type": "code",
   "execution_count": 5,
   "metadata": {
    "ExecuteTime": {
     "end_time": "2024-04-11T06:30:13.177518Z",
     "start_time": "2024-04-11T06:30:13.174594Z"
    }
   },
   "outputs": [],
   "source": [
    "idgal = 88"
   ]
  },
  {
   "cell_type": "code",
   "execution_count": 6,
   "metadata": {
    "ExecuteTime": {
     "end_time": "2024-04-11T06:30:13.181178Z",
     "start_time": "2024-04-11T06:30:13.178989Z"
    }
   },
   "outputs": [],
   "source": [
    "gal = gals[gals['id']==idgal]"
   ]
  },
  {
   "cell_type": "code",
   "execution_count": 7,
   "metadata": {
    "ExecuteTime": {
     "end_time": "2024-04-11T06:30:23.754395Z",
     "start_time": "2024-04-11T06:30:13.182599Z"
    }
   },
   "outputs": [
    {
     "name": "stdout",
     "output_type": "stream",
     "text": [
      "[Output 00341] Age (Gyr) : 4.827 / 13.761, z = 1.33203 (a = 0.4288)\n",
      "Reading 8 part files (1.622 GiB) in /storage7/NewCluster/snapshots/output_00341... \n"
     ]
    },
    {
     "name": "stderr",
     "output_type": "stream",
     "text": [
      "/home/jangjk/rur/rur/uri.py:806: UserWarning: numpy.ndarray is passed instead of np.void in halo parameter. Assuming first row as input halo...\n",
      "  warnings.warn(\"numpy.ndarray is passed instead of np.void in halo parameter. Assuming first row as input halo...\", UserWarning)\n"
     ]
    },
    {
     "name": "stdout",
     "output_type": "stream",
     "text": [
      "Done (1.959s).\n",
      "Masking particles... 4700120 / 6135181 (0.7661)\n",
      "Done (0.856s).\n",
      "[clear] Clearing memory\n",
      "\tUnlink `psm_81195e54`\n",
      "[Output 00341] Age (Gyr) : 4.827 / 13.761, z = 1.33203 (a = 0.4288)\n",
      "Reading 8 AMR & hydro files (1.357 GiB) in /storage7/NewCluster/snapshots/output_00341... \n",
      "NB 0\n",
      "Done (3.054s).\n",
      "Masking cells... 1082097 / 5803509 (0.1865)\n",
      "Done (0.225s).\n"
     ]
    }
   ],
   "source": [
    "snap.clear()\n",
    "snap = uri.RamsesSnapshot(repo=repo, \n",
    "                          path_in_repo=path_in_repo, \n",
    "                          iout=nout, \n",
    "                          mode=mode)\n",
    "\n",
    "boxtokpc = 1/snap.unit['kpc']\n",
    "snap.set_box_halo(gal, \n",
    "                  use_halo_radius=False, \n",
    "                  radius=boxrad/boxtokpc)\n",
    "\n",
    "star = snap.get_part(pname='star')\n",
    "\n",
    "snap.clear()\n",
    "snap = uri.RamsesSnapshot(repo=repo, \n",
    "                          path_in_repo=path_in_repo, \n",
    "                          iout=nout, \n",
    "                          mode=mode)\n",
    "snap.set_box_halo(gal, \n",
    "                  use_halo_radius=False, \n",
    "                  radius=boxrad/boxtokpc)\n",
    "snap.get_cell()\n",
    "cell = snap.cell    "
   ]
  },
  {
   "cell_type": "markdown",
   "metadata": {},
   "source": [
    "## load param file"
   ]
  },
  {
   "cell_type": "code",
   "execution_count": 8,
   "metadata": {
    "ExecuteTime": {
     "end_time": "2024-04-11T06:30:23.760488Z",
     "start_time": "2024-04-11T06:30:23.756305Z"
    }
   },
   "outputs": [],
   "source": [
    "repo_par = '~/GFE_SKIRT/example/'\n",
    "fname_par = 'parameter_setting'\n",
    "\n",
    "try:\n",
    "    par = reload(sys.modules[fname_par])\n",
    "except:\n",
    "    pass\n",
    "\n",
    "sys.path.append(repo_par)\n",
    "par = __import__(fname_par)"
   ]
  },
  {
   "cell_type": "code",
   "execution_count": 9,
   "metadata": {
    "ExecuteTime": {
     "end_time": "2024-04-11T06:30:23.766093Z",
     "start_time": "2024-04-11T06:30:23.762870Z"
    }
   },
   "outputs": [
    {
     "name": "stdout",
     "output_type": "stream",
     "text": [
      "/home/jangjk/SKIRT_DIR/rur_dir/testing/gal_00341/00088/\n"
     ]
    }
   ],
   "source": [
    "par.skirt_dir = '/storage5/scratch/library/SKIRT/release/SKIRT/main/'\n",
    "print(par.repo)\n",
    "\n",
    "par.N_phot = 5e7"
   ]
  },
  {
   "cell_type": "code",
   "execution_count": 10,
   "metadata": {
    "ExecuteTime": {
     "end_time": "2024-04-11T06:30:23.781933Z",
     "start_time": "2024-04-11T06:30:23.767673Z"
    }
   },
   "outputs": [
    {
     "data": {
      "text/plain": [
       "(7.698970004336019,\n",
       " '/home/jangjk/SKIRT_DIR/rur_dir/testing/gal_00341/00088/',\n",
       " 40,\n",
       " 'cell')"
      ]
     },
     "execution_count": 10,
     "metadata": {},
     "output_type": "execute_result"
    }
   ],
   "source": [
    "np.log10(par.N_phot),par.repo,par.fov_X,par.med_type"
   ]
  },
  {
   "cell_type": "code",
   "execution_count": 11,
   "metadata": {
    "ExecuteTime": {
     "end_time": "2024-04-11T06:30:23.816095Z",
     "start_time": "2024-04-11T06:30:23.783296Z"
    }
   },
   "outputs": [
    {
     "data": {
      "text/plain": [
       "array([15, 16, 17, 18, 19, 20], dtype=int32)"
      ]
     },
     "execution_count": 11,
     "metadata": {},
     "output_type": "execute_result"
    }
   ],
   "source": [
    "np.unique(cell['level'])"
   ]
  },
  {
   "cell_type": "markdown",
   "metadata": {},
   "source": [
    "## execute SKIRT "
   ]
  },
  {
   "cell_type": "code",
   "execution_count": null,
   "metadata": {
    "ExecuteTime": {
     "start_time": "2024-04-11T06:30:11.536Z"
    },
    "scrolled": true
   },
   "outputs": [
    {
     "name": "stdout",
     "output_type": "stream",
     "text": [
      "done -- basic setting\n",
      "start -- calculating distance to the Nth nearest neighbor (N=5)\n",
      "done -- calculating distance to the Nth nearest neighbor (N=5)\n",
      "start -- calculating metallicity dependent Dust-to-Gas ratio\n",
      "done -- calculating metallicity dependent Dust-to-Gas ratio\n",
      "done -- writing old population\n",
      "done -- writing gas cells\n",
      "cell\n",
      "11/04/2024 15:33:15.613   Welcome to SKIRT v9.0 (git 2191a4e built on 23/03/2024 at 17:15:39)\n",
      "11/04/2024 15:33:15.613   Running on gc7 for jangjk\n",
      "11/04/2024 15:33:15.613   Constructing a simulation from ski file '../nh_test.ski'...\n",
      "11/04/2024 15:33:15.731   Starting simulation nh_test using 40 threads and a single process...\n",
      "11/04/2024 15:33:15.731   Starting setup...\n",
      "11/04/2024 15:33:15.732     Panchromatic wavelength regime\n",
      "11/04/2024 15:33:15.732     With transfer medium\n",
      "11/04/2024 15:33:15.732     Model and grid symmetry: 3D\n",
      "11/04/2024 15:33:15.732     Photon life cycle: no explicit absorption; with forced scattering\n",
      "11/04/2024 15:33:15.732   Starburst99SEDFamily opened stored table /storage5/scratch/library/SKIRT/resources/SKIRT9_Resources_Core/SED/Starburst99SEDFamily.stab\n",
      "11/04/2024 15:33:15.732   ParticleSource reads smoothed source particles from text file /home/jangjk/SKIRT_DIR/rur_dir/testing/gal_00341/00088//part_old.txt...\n",
      "11/04/2024 15:33:15.733     Column 1: position x (kpc) <-- position x\n",
      "11/04/2024 15:33:15.733     Column 2: position y (kpc) <-- position y\n",
      "11/04/2024 15:33:15.733     Column 3: position z (kpc) <-- position z\n",
      "11/04/2024 15:33:15.733     Column 4: size h (pc) <-- smoothing length\n",
      "11/04/2024 15:33:15.733     Column 5: initial mass (Msun) <-- mass\n",
      "11/04/2024 15:33:15.733     Column 6: metallicity (1) <-- metallicity\n",
      "11/04/2024 15:33:15.733     Column 7: age (Gyr) <-- age\n"
     ]
    }
   ],
   "source": [
    "gskirt.utils.execute_SKIRT.make_INSKI(\n",
    "                                   boxtokpc=boxtokpc,\n",
    "                                   x_s=star['x'],y_s=star['y'],z_s=star['z'],\n",
    "                                   vx_s=star['vx']*1e4,vy_s=star['vy']*1e4,vz_s=star['vz']*1e4,\n",
    "                                   m_s=star['m','Msun'],m0_s=star['m0','Msun'],\n",
    "                                   age_s=star['age','Gyr'],metal_s=star['metal'],\n",
    "                                   x_c=cell['x'],y_c=cell['y'],z_c=cell['z'],lvl_c=cell['level'],\n",
    "                                   vx_c=cell['vx']*1e4,vy_c=cell['vy']*1e4,vz_c=cell['vz']*1e4,\n",
    "                                   m_c=cell['m','Msun'],\n",
    "                                   T_c=cell['T','K'],metal_c=cell['metal'],\n",
    "                                   param=par,\n",
    "                                   pos_ctr=[gal['x'],gal['y'],gal['z']],\n",
    "                                   vel_ctr=[gal['vx'],gal['vy'],gal['vz']], \n",
    "                                  )\n"
   ]
  },
  {
   "cell_type": "code",
   "execution_count": null,
   "metadata": {
    "ExecuteTime": {
     "end_time": "2023-07-21T05:38:24.899473Z",
     "start_time": "2023-07-21T05:38:24.895031Z"
    }
   },
   "outputs": [],
   "source": []
  }
 ],
 "metadata": {
  "kernelspec": {
   "display_name": "Python 3",
   "language": "python",
   "name": "python3"
  },
  "language_info": {
   "codemirror_mode": {
    "name": "ipython",
    "version": 3
   },
   "file_extension": ".py",
   "mimetype": "text/x-python",
   "name": "python",
   "nbconvert_exporter": "python",
   "pygments_lexer": "ipython3",
   "version": "3.8.5"
  },
  "toc": {
   "base_numbering": 1,
   "nav_menu": {},
   "number_sections": true,
   "sideBar": true,
   "skip_h1_title": false,
   "title_cell": "Table of Contents",
   "title_sidebar": "Contents",
   "toc_cell": false,
   "toc_position": {
    "height": "calc(100% - 180px)",
    "left": "10px",
    "top": "150px",
    "width": "229.764px"
   },
   "toc_section_display": true,
   "toc_window_display": true
  }
 },
 "nbformat": 4,
 "nbformat_minor": 4
}
