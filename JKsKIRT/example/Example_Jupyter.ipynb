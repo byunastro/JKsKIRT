{
 "cells": [
  {
   "cell_type": "markdown",
   "metadata": {},
   "source": [
    "# Import Libraries"
   ]
  },
  {
   "cell_type": "code",
   "execution_count": null,
   "metadata": {
    "ExecuteTime": {
     "end_time": "2024-05-09T02:19:43.956001Z",
     "start_time": "2024-05-09T02:19:22.283691Z"
    }
   },
   "outputs": [],
   "source": [
    "import os\n",
    "import sys\n",
    "from importlib import reload\n",
    "\n",
    "import numpy as np\n",
    "import matplotlib.pyplot as plt\n",
    "\n",
    "GFE_DIR = ''\n",
    "sys.path.append(GFE_DIR)\n",
    "import JKsKIRT as gskirt\n",
    "\n",
    "from rur import uri, uhmi"
   ]
  },
  {
   "cell_type": "code",
   "execution_count": null,
   "metadata": {
    "ExecuteTime": {
     "end_time": "2024-05-09T02:19:43.962003Z",
     "start_time": "2024-05-09T02:19:43.959501Z"
    }
   },
   "outputs": [],
   "source": [
    "SioverSil = 0.163 \n",
    "# Silicate in NC --- assuming a fixed amorphous olivine composition(MgFeSiO4).\n",
    "#                    assuming pyroxene with MgFeSi2O6 instead of olivine \n",
    "#                    typically increase the amount of dust mass released as silicates by 20%."
   ]
  },
  {
   "cell_type": "markdown",
   "metadata": {},
   "source": [
    "# Test"
   ]
  },
  {
   "cell_type": "markdown",
   "metadata": {},
   "source": [
    "## load sim raw data"
   ]
  },
  {
   "cell_type": "code",
   "execution_count": null,
   "metadata": {
    "ExecuteTime": {
     "end_time": "2024-05-09T02:19:43.967099Z",
     "start_time": "2024-05-09T02:19:43.964125Z"
    }
   },
   "outputs": [],
   "source": [
    "nout = 341\n",
    "\n",
    "repo = '/storage7/NewCluster2/'\n",
    "path_in_repo = 'snapshots'\n",
    "mode = 'nc'\n",
    "\n",
    "boxrad = 15*np.sqrt(3)"
   ]
  },
  {
   "cell_type": "code",
   "execution_count": null,
   "metadata": {
    "ExecuteTime": {
     "end_time": "2024-05-09T02:19:44.245398Z",
     "start_time": "2024-05-09T02:19:43.968831Z"
    }
   },
   "outputs": [],
   "source": [
    "snap = uri.RamsesSnapshot(repo=repo, \n",
    "                          path_in_repo=path_in_repo, \n",
    "                          iout=nout, \n",
    "                          mode=mode, \n",
    "                          longint=False)\n",
    "\n",
    "#boxtokpc = 1/snap.unit['kpc']#/snap.params['aexp']"
   ]
  },
  {
   "cell_type": "code",
   "execution_count": null,
   "metadata": {
    "ExecuteTime": {
     "end_time": "2024-05-09T02:20:56.778296Z",
     "start_time": "2024-05-09T02:19:44.248190Z"
    }
   },
   "outputs": [],
   "source": [
    "gals_tot, pid = uhmi.HaloMaker.load( snap, \n",
    "                                    galaxy=True,\n",
    "                                    load_parts=True,\n",
    "                                    double_precision=True)\n",
    "gals_tot.sort(order='m')"
   ]
  },
  {
   "cell_type": "code",
   "execution_count": null,
   "metadata": {
    "ExecuteTime": {
     "end_time": "2024-05-09T02:20:56.785991Z",
     "start_time": "2024-05-09T02:20:56.780510Z"
    }
   },
   "outputs": [],
   "source": [
    "mlow = 10\n",
    "mupp = 13\n",
    "\n",
    "gals = gals_tot[(10**mlow<=gals_tot['mvir'])*(gals_tot['mvir']<10**mupp)]\n",
    "print(gals['id'])"
   ]
  },
  {
   "cell_type": "code",
   "execution_count": null,
   "metadata": {
    "ExecuteTime": {
     "end_time": "2024-05-09T02:21:00.392332Z",
     "start_time": "2024-05-09T02:21:00.386640Z"
    }
   },
   "outputs": [],
   "source": [
    "idgal = 518"
   ]
  },
  {
   "cell_type": "code",
   "execution_count": null,
   "metadata": {
    "ExecuteTime": {
     "end_time": "2024-05-09T02:21:00.775685Z",
     "start_time": "2024-05-09T02:21:00.770138Z"
    }
   },
   "outputs": [],
   "source": [
    "gal = gals[gals['id']==idgal]"
   ]
  },
  {
   "cell_type": "code",
   "execution_count": null,
   "metadata": {
    "ExecuteTime": {
     "end_time": "2024-05-09T02:21:36.284004Z",
     "start_time": "2024-05-09T02:21:01.173557Z"
    }
   },
   "outputs": [],
   "source": [
    "snap.clear()\n",
    "snap = uri.RamsesSnapshot(repo=repo, \n",
    "                          path_in_repo=path_in_repo, \n",
    "                          iout=nout, \n",
    "                          mode=mode)\n",
    "\n",
    "boxtokpc = 1/snap.unit['kpc']\n",
    "snap.set_box_halo(gal, \n",
    "                  use_halo_radius=False, \n",
    "                  radius=boxrad/boxtokpc)\n",
    "\n",
    "star = snap.get_part(pname='star')\n",
    "\n",
    "snap.clear()\n",
    "snap = uri.RamsesSnapshot(repo=repo, \n",
    "                          path_in_repo=path_in_repo, \n",
    "                          iout=nout, \n",
    "                          mode=mode)\n",
    "snap.set_box_halo(gal, \n",
    "                  use_halo_radius=False, \n",
    "                  radius=boxrad/boxtokpc)\n",
    "snap.get_cell()\n",
    "cell = snap.cell    "
   ]
  },
  {
   "cell_type": "code",
   "execution_count": null,
   "metadata": {
    "ExecuteTime": {
     "end_time": "2024-05-09T02:21:36.449021Z",
     "start_time": "2024-05-09T02:21:36.286198Z"
    }
   },
   "outputs": [],
   "source": [
    "mC_small = cell['d1']*cell['m','Msun']\n",
    "mC_large = cell['d2']*cell['m','Msun']\n",
    "mSil_small = cell['d3']*cell['m','Msun']/SioverSil\n",
    "mSil_large = cell['d4']*cell['m','Msun']/SioverSil"
   ]
  },
  {
   "cell_type": "code",
   "execution_count": null,
   "metadata": {
    "ExecuteTime": {
     "end_time": "2024-05-09T02:21:36.457400Z",
     "start_time": "2024-05-09T02:21:36.451362Z"
    }
   },
   "outputs": [],
   "source": [
    "print('Total small Graphite Mass = %s (log Msun)'%(np.round(np.log10(np.sum(mC_small)),2)))\n",
    "print('Total large Graphite Mass = %s (log Msun)'%(np.round(np.log10(np.sum(mC_large)),2)))\n",
    "print('Total small Silicate Mass = %s (log Msun)'%(np.round(np.log10(np.sum(mSil_small)),2)))\n",
    "print('Total large Silicate Mass = %s (log Msun)'%(np.round(np.log10(np.sum(mSil_large)),2)))"
   ]
  },
  {
   "cell_type": "markdown",
   "metadata": {},
   "source": [
    "## load param file"
   ]
  },
  {
   "cell_type": "code",
   "execution_count": null,
   "metadata": {
    "ExecuteTime": {
     "end_time": "2024-05-09T02:21:36.568720Z",
     "start_time": "2024-05-09T02:21:36.458827Z"
    }
   },
   "outputs": [],
   "source": [
    "repo_par = '/home/jangjk/Project/JKsKIRT/example/'\n",
    "fname_par = 'parameter_setting'\n",
    "\n",
    "try:\n",
    "    par = reload(sys.modules[fname_par])\n",
    "except:\n",
    "    pass\n",
    "\n",
    "sys.path.append(repo_par)\n",
    "par = __import__(fname_par)"
   ]
  },
  {
   "cell_type": "code",
   "execution_count": null,
   "metadata": {
    "ExecuteTime": {
     "end_time": "2024-05-09T02:21:36.575978Z",
     "start_time": "2024-05-09T02:21:36.571940Z"
    }
   },
   "outputs": [],
   "source": [
    "par.skirt_dir = '/storage5/scratch/library/SKIRT/release/SKIRT/main/'\n",
    "par.N_phot = 3e7\n",
    "\n",
    "par.repo = f'/storage8/jangjk/mock/NC/gal_{nout:04d}/{idgal:04d}/'"
   ]
  },
  {
   "cell_type": "code",
   "execution_count": null,
   "metadata": {
    "ExecuteTime": {
     "end_time": "2024-05-09T02:21:36.586619Z",
     "start_time": "2024-05-09T02:21:36.578846Z"
    }
   },
   "outputs": [],
   "source": [
    "print('Total photon packet Number = 10^{%s}'%(np.round(np.log10(par.N_phot),2)),end='\\n\\n')\n",
    "print('Redshift of the target = %s'%(par.z_red))\n",
    "print('Distance to the target = %s (>0 only when z_red = 0)'%(par.inst_dist),end='\\n\\n')\n",
    "print('Field-of-View (X-direction) = %s %s'%(par.fov_X,par.fov_unit))\n",
    "print('Field-of-View (Y-direction) = %s %s'%(par.fov_Y,par.fov_unit),end='\\n\\n')\n",
    "print('Using on-the-fly-dust info = %s'%(par.on_the_fly_dust),end='\\n\\n')\n",
    "print('The file will be saved in %s/%s'%(par.repo,par.repo_output),end='\\n\\n')"
   ]
  },
  {
   "cell_type": "markdown",
   "metadata": {},
   "source": [
    "## execute SKIRT "
   ]
  },
  {
   "cell_type": "code",
   "execution_count": null,
   "metadata": {
    "ExecuteTime": {
     "end_time": "2024-05-09T02:28:02.255086Z",
     "start_time": "2024-05-09T02:21:40.338218Z"
    },
    "scrolled": true
   },
   "outputs": [],
   "source": [
    "gskirt.utils.execute_SKIRT.make_INSKI(\n",
    "                                   boxtokpc=boxtokpc,\n",
    "                                   x_s=star['x'],y_s=star['y'],z_s=star['z'],\n",
    "                                   vx_s=star['vx','km/s'],vy_s=star['vy','km/s'],vz_s=star['vz','km/s'],\n",
    "                                   m_s=star['m','Msun'],m0_s=star['m0','Msun'],\n",
    "                                   age_s=star['age','Gyr'],metal_s=star['metal'],\n",
    "                                   x_c=cell['x'],y_c=cell['y'],z_c=cell['z'],lvl_c=cell['level'],\n",
    "                                   vx_c=cell['vx','km/s'],vy_c=cell['vy','km/s'],vz_c=cell['vz','km/s'],\n",
    "                                   m_c=cell['m','Msun'],\n",
    "                                   T_c=cell['T','K'],metal_c=cell['metal'],\n",
    "                                   param=par,\n",
    "                                   pos_ctr=[gal['x'],gal['y'],gal['z']],\n",
    "                                   vel_ctr=[gal['vx'],gal['vy'],gal['vz']],\n",
    "                                   mC_small=mC_small,\n",
    "                                   mC_large=mC_large,\n",
    "                                   mSil_small=mSil_small,\n",
    "                                   mSil_large=mSil_large,\n",
    "                                  )\n"
   ]
  },
  {
   "cell_type": "code",
   "execution_count": null,
   "metadata": {
    "ExecuteTime": {
     "end_time": "2023-07-21T05:38:24.899473Z",
     "start_time": "2023-07-21T05:38:24.895031Z"
    }
   },
   "outputs": [],
   "source": []
  }
 ],
 "metadata": {
  "kernelspec": {
   "display_name": "Python 3",
   "language": "python",
   "name": "python3"
  },
  "toc": {
   "base_numbering": 1,
   "nav_menu": {},
   "number_sections": true,
   "sideBar": true,
   "skip_h1_title": false,
   "title_cell": "Table of Contents",
   "title_sidebar": "Contents",
   "toc_cell": false,
   "toc_position": {
    "height": "calc(100% - 180px)",
    "left": "10px",
    "top": "150px",
    "width": "229.764px"
   },
   "toc_section_display": true,
   "toc_window_display": false
  }
 },
 "nbformat": 4,
 "nbformat_minor": 4
}
