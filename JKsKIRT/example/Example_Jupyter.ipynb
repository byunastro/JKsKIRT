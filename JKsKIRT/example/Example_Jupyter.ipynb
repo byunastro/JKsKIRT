{
 "cells": [
  {
   "cell_type": "markdown",
   "metadata": {},
   "source": [
    "# Import Libraries"
   ]
  },
  {
   "cell_type": "code",
   "execution_count": 41,
   "metadata": {
    "ExecuteTime": {
     "end_time": "2024-05-02T07:10:16.818385Z",
     "start_time": "2024-05-02T07:10:16.812359Z"
    }
   },
   "outputs": [],
   "source": [
    "import os\n",
    "import sys\n",
    "from importlib import reload\n",
    "\n",
    "import numpy as np\n",
    "import matplotlib.pyplot as plt\n",
    "\n",
    "GFE_DIR = ''\n",
    "sys.path.append(GFE_DIR)\n",
    "import JKsKIRT as gskirt\n",
    "\n",
    "from rur import uri, uhmi"
   ]
  },
  {
   "cell_type": "code",
   "execution_count": 2,
   "metadata": {
    "ExecuteTime": {
     "end_time": "2024-05-02T06:02:28.400109Z",
     "start_time": "2024-05-02T06:02:28.395700Z"
    }
   },
   "outputs": [],
   "source": [
    "SioverSil = 0.163 \n",
    "# Silicate in NC --- assuming a fixed amorphous olivine composition(MgFeSiO4).\n",
    "#                    assuming pyroxene with MgFeSi2O6 instead of olivine \n",
    "#                    typically increase the amount of dust mass released as silicates by 20%."
   ]
  },
  {
   "cell_type": "markdown",
   "metadata": {},
   "source": [
    "# Test"
   ]
  },
  {
   "cell_type": "markdown",
   "metadata": {},
   "source": [
    "## load sim raw data"
   ]
  },
  {
   "cell_type": "code",
   "execution_count": 3,
   "metadata": {
    "ExecuteTime": {
     "end_time": "2024-05-02T06:02:28.405267Z",
     "start_time": "2024-05-02T06:02:28.402284Z"
    }
   },
   "outputs": [],
   "source": [
    "nout = 341\n",
    "\n",
    "repo = '/storage7/NewCluster2/'\n",
    "path_in_repo = 'snapshots'\n",
    "mode = 'nc'\n",
    "\n",
    "boxrad = 15*np.sqrt(3)"
   ]
  },
  {
   "cell_type": "code",
   "execution_count": 4,
   "metadata": {
    "ExecuteTime": {
     "end_time": "2024-05-02T06:02:28.767227Z",
     "start_time": "2024-05-02T06:02:28.407005Z"
    }
   },
   "outputs": [
    {
     "name": "stdout",
     "output_type": "stream",
     "text": [
      "[Output 00341] Age (Gyr) : 4.827 / 13.761, z = 1.33203 (a = 0.4288)\n"
     ]
    }
   ],
   "source": [
    "snap = uri.RamsesSnapshot(repo=repo, \n",
    "                          path_in_repo=path_in_repo, \n",
    "                          iout=nout, \n",
    "                          mode=mode, \n",
    "                          longint=False)\n",
    "\n",
    "#boxtokpc = 1/snap.unit['kpc']#/snap.params['aexp']"
   ]
  },
  {
   "cell_type": "code",
   "execution_count": 5,
   "metadata": {
    "ExecuteTime": {
     "end_time": "2024-05-02T06:02:57.330562Z",
     "start_time": "2024-05-02T06:02:28.770215Z"
    }
   },
   "outputs": [],
   "source": [
    "gals_tot, pid = uhmi.HaloMaker.load( snap, \n",
    "                                    galaxy=True,\n",
    "                                    load_parts=True,\n",
    "                                    double_precision=True)\n",
    "gals_tot.sort(order='m')"
   ]
  },
  {
   "cell_type": "code",
   "execution_count": 6,
   "metadata": {
    "ExecuteTime": {
     "end_time": "2024-05-02T06:02:57.338256Z",
     "start_time": "2024-05-02T06:02:57.332821Z"
    }
   },
   "outputs": [
    {
     "name": "stdout",
     "output_type": "stream",
     "text": [
      "[ 518  188    9  894  524  506  418  439  120  288  111  333   94  306\n",
      "  334  425   58  264   67  562  367   99   46  270  646   53  341  697\n",
      "  249  629  198  263  100  289   41  350  160  392  436 3794 4085   20\n",
      "  446  116  133   75  237   76  577  512  443  401  134  243   30  269\n",
      "  497   57  541  476   54   70  301   78   47  195  423 2976   25    2\n",
      "  296  377 4387  328  107  340  235   72  317  387  262  143   37  138\n",
      " 4362   87  139   79  654  432   44  124  208   81  596  101    6   40\n",
      "   32   85 4869  155   11   92   66  106   97   29  311 3763  197  204\n",
      "  245   52 3745   71    1   33 4384   84   89   98   50 4284   77  164\n",
      "   36  324   64    7   80   14  167   13   31   88    4   22 3919  162\n",
      " 3911   42    8  141   21   23   17 4190   27   12    3   19   18   15\n",
      "   10    5]\n"
     ]
    }
   ],
   "source": [
    "mlow = 10\n",
    "mupp = 13\n",
    "\n",
    "gals = gals_tot[(10**mlow<=gals_tot['mvir'])*(gals_tot['mvir']<10**mupp)]\n",
    "print(gals['id'])"
   ]
  },
  {
   "cell_type": "code",
   "execution_count": 24,
   "metadata": {
    "ExecuteTime": {
     "end_time": "2024-05-02T06:26:11.535636Z",
     "start_time": "2024-05-02T06:26:11.526060Z"
    }
   },
   "outputs": [],
   "source": [
    "idgal = 31"
   ]
  },
  {
   "cell_type": "code",
   "execution_count": 25,
   "metadata": {
    "ExecuteTime": {
     "end_time": "2024-05-02T06:26:11.713803Z",
     "start_time": "2024-05-02T06:26:11.710174Z"
    }
   },
   "outputs": [],
   "source": [
    "gal = gals[gals['id']==idgal]"
   ]
  },
  {
   "cell_type": "code",
   "execution_count": 26,
   "metadata": {
    "ExecuteTime": {
     "end_time": "2024-05-02T06:26:33.911873Z",
     "start_time": "2024-05-02T06:26:12.418327Z"
    }
   },
   "outputs": [
    {
     "name": "stdout",
     "output_type": "stream",
     "text": [
      "[clear] Clearing memory\n",
      "\tUnlink `rur_cell_nc_u1034_20240502_150303_851356`\n",
      "[Output 00341] Age (Gyr) : 4.827 / 13.761, z = 1.33203 (a = 0.4288)\n",
      "Reading 8 part files (1.400 GiB) in /storage7/NewCluster2/snapshots/output_00341... \n",
      "Allocating Memory...\n"
     ]
    },
    {
     "name": "stderr",
     "output_type": "stream",
     "text": [
      "/home/jangjk/rur/rur/uri.py:845: UserWarning: numpy.ndarray is passed instead of np.void in halo parameter. Assuming first row as input halo...\n",
      "  warnings.warn(\n"
     ]
    },
    {
     "name": "stdout",
     "output_type": "stream",
     "text": [
      "Done (0.767 sec)\n"
     ]
    },
    {
     "data": {
      "application/vnd.jupyter.widget-view+json": {
       "model_id": "c3cf1fc491d940e0adc743ea01250cdf",
       "version_major": 2,
       "version_minor": 0
      },
      "text/plain": [
       "HBox(children=(HTML(value='Reading parts'), FloatProgress(value=0.0, max=8.0), HTML(value='')))"
      ]
     },
     "metadata": {},
     "output_type": "display_data"
    },
    {
     "name": "stdout",
     "output_type": "stream",
     "text": [
      "\n",
      "Done (4.425s).\n",
      "Masking particles... 5818244 / 7102819 (0.8191)\n",
      "Done (7.178s).\n",
      "[clear] Clearing memory\n",
      "\tUnlink `rur_part_nc_u1034_20240502_152613_814360`\n",
      "[Output 00341] Age (Gyr) : 4.827 / 13.761, z = 1.33203 (a = 0.4288)\n",
      "Reading 8 AMR & hydro files (631.0 MiB) in /storage7/NewCluster2/snapshots/output_00341... \n",
      "Allocating Memory...\n",
      "Done (1.342 sec)\n"
     ]
    },
    {
     "data": {
      "application/vnd.jupyter.widget-view+json": {
       "model_id": "94c3f5df4f5041eaab672a69434f2303",
       "version_major": 2,
       "version_minor": 0
      },
      "text/plain": [
       "HBox(children=(HTML(value='Reading cells'), FloatProgress(value=0.0, max=8.0), HTML(value='')))"
      ]
     },
     "metadata": {},
     "output_type": "display_data"
    },
    {
     "name": "stdout",
     "output_type": "stream",
     "text": [
      "\n",
      "Done (3.788s).\n",
      "Masking cells... 1048395 / 2524958 (0.4152)\n",
      "Done (0.208s).\n"
     ]
    }
   ],
   "source": [
    "snap.clear()\n",
    "snap = uri.RamsesSnapshot(repo=repo, \n",
    "                          path_in_repo=path_in_repo, \n",
    "                          iout=nout, \n",
    "                          mode=mode)\n",
    "\n",
    "boxtokpc = 1/snap.unit['kpc']\n",
    "snap.set_box_halo(gal, \n",
    "                  use_halo_radius=False, \n",
    "                  radius=boxrad/boxtokpc)\n",
    "\n",
    "star = snap.get_part(pname='star')\n",
    "\n",
    "snap.clear()\n",
    "snap = uri.RamsesSnapshot(repo=repo, \n",
    "                          path_in_repo=path_in_repo, \n",
    "                          iout=nout, \n",
    "                          mode=mode)\n",
    "snap.set_box_halo(gal, \n",
    "                  use_halo_radius=False, \n",
    "                  radius=boxrad/boxtokpc)\n",
    "snap.get_cell()\n",
    "cell = snap.cell    "
   ]
  },
  {
   "cell_type": "code",
   "execution_count": 27,
   "metadata": {
    "ExecuteTime": {
     "end_time": "2024-05-02T06:26:34.303994Z",
     "start_time": "2024-05-02T06:26:33.913936Z"
    }
   },
   "outputs": [],
   "source": [
    "mC_small = cell['d1']*cell['m','Msun']\n",
    "mC_large = cell['d2']*cell['m','Msun']\n",
    "mSil_small = cell['d3']*cell['m','Msun']/SioverSil\n",
    "mSil_large = cell['d4']*cell['m','Msun']/SioverSil"
   ]
  },
  {
   "cell_type": "code",
   "execution_count": 28,
   "metadata": {
    "ExecuteTime": {
     "end_time": "2024-05-02T06:26:34.314715Z",
     "start_time": "2024-05-02T06:26:34.306203Z"
    }
   },
   "outputs": [
    {
     "name": "stdout",
     "output_type": "stream",
     "text": [
      "Total small Graphite Mass = 7.33 (log Msun)\n",
      "Total large Graphite Mass = 7.95 (log Msun)\n",
      "Total small Silicate Mass = 7.1 (log Msun)\n",
      "Total large Silicate Mass = 7.57 (log Msun)\n"
     ]
    }
   ],
   "source": [
    "print('Total small Graphite Mass = %s (log Msun)'%(np.round(np.log10(np.sum(mC_small)),2)))\n",
    "print('Total large Graphite Mass = %s (log Msun)'%(np.round(np.log10(np.sum(mC_large)),2)))\n",
    "print('Total small Silicate Mass = %s (log Msun)'%(np.round(np.log10(np.sum(mSil_small)),2)))\n",
    "print('Total large Silicate Mass = %s (log Msun)'%(np.round(np.log10(np.sum(mSil_large)),2)))"
   ]
  },
  {
   "cell_type": "markdown",
   "metadata": {},
   "source": [
    "## load param file"
   ]
  },
  {
   "cell_type": "code",
   "execution_count": 37,
   "metadata": {
    "ExecuteTime": {
     "end_time": "2024-05-02T06:40:10.776827Z",
     "start_time": "2024-05-02T06:40:10.714121Z"
    }
   },
   "outputs": [],
   "source": [
    "repo_par = '/home/jangjk/Project/JKsKIRT/example/'\n",
    "fname_par = 'parameter_setting'\n",
    "\n",
    "try:\n",
    "    par = reload(sys.modules[fname_par])\n",
    "except:\n",
    "    pass\n",
    "\n",
    "sys.path.append(repo_par)\n",
    "par = __import__(fname_par)"
   ]
  },
  {
   "cell_type": "code",
   "execution_count": 38,
   "metadata": {
    "ExecuteTime": {
     "end_time": "2024-05-02T06:40:10.869042Z",
     "start_time": "2024-05-02T06:40:10.864645Z"
    }
   },
   "outputs": [],
   "source": [
    "par.skirt_dir = '/storage5/scratch/library/SKIRT/release/SKIRT/main/'\n",
    "par.N_phot = 4e7"
   ]
  },
  {
   "cell_type": "code",
   "execution_count": 39,
   "metadata": {
    "ExecuteTime": {
     "end_time": "2024-05-02T06:40:11.030913Z",
     "start_time": "2024-05-02T06:40:11.024927Z"
    }
   },
   "outputs": [
    {
     "name": "stdout",
     "output_type": "stream",
     "text": [
      "Total photon packet Number = 10^{7.6}\n",
      "\n",
      "Redshift of the target = 3\n",
      "Distance to the target = 0 (>0 only when z_red = 0)\n",
      "\n",
      "Field-of-View (X-direction) = 40 kpc\n",
      "Field-of-View (Y-direction) = 40 kpc\n",
      "\n",
      "Using on-the-fly-dust info = True\n",
      "\n",
      "The file will be saved in /home/jangjk//result/\n",
      "\n"
     ]
    }
   ],
   "source": [
    "print('Total photon packet Number = 10^{%s}'%(np.round(np.log10(par.N_phot),2)),end='\\n\\n')\n",
    "print('Redshift of the target = %s'%(par.z_red))\n",
    "print('Distance to the target = %s (>0 only when z_red = 0)'%(par.inst_dist),end='\\n\\n')\n",
    "print('Field-of-View (X-direction) = %s %s'%(par.fov_X,par.fov_unit))\n",
    "print('Field-of-View (Y-direction) = %s %s'%(par.fov_Y,par.fov_unit),end='\\n\\n')\n",
    "print('Using on-the-fly-dust info = %s'%(par.on_the_fly_dust),end='\\n\\n')\n",
    "print('The file will be saved in %s/%s'%(par.repo,par.repo_output),end='\\n\\n')"
   ]
  },
  {
   "cell_type": "markdown",
   "metadata": {},
   "source": [
    "## execute SKIRT "
   ]
  },
  {
   "cell_type": "code",
   "execution_count": 40,
   "metadata": {
    "ExecuteTime": {
     "end_time": "2024-05-02T06:56:03.098409Z",
     "start_time": "2024-05-02T06:40:11.648275Z"
    },
    "scrolled": true
   },
   "outputs": [
    {
     "name": "stdout",
     "output_type": "stream",
     "text": [
      "done -- basic setting\n",
      "start -- calculating distance to the Nth-nearest neighbor (N=5)\n",
      "done -- calculating distance to the Nth-nearest neighbor (N=5)\n",
      "done -- writing old population\n",
      "done -- writing gas cells\n",
      "02/05/2024 15:42:21.983   Welcome to SKIRT v9.0 (git 2191a4e built on 23/03/2024 at 17:15:39)\n",
      "02/05/2024 15:42:21.983   Running on gc7 for jangjk\n",
      "02/05/2024 15:42:21.983   Constructing a simulation from ski file '../nh_test.ski'...\n",
      "02/05/2024 15:42:28.781   Starting simulation nh_test using 40 threads and a single process...\n",
      "02/05/2024 15:42:28.781   Starting setup...\n",
      "02/05/2024 15:42:28.782     Panchromatic wavelength regime\n",
      "02/05/2024 15:42:28.782     With transfer medium\n",
      "02/05/2024 15:42:28.782     Redshift: 3\n",
      "02/05/2024 15:42:28.782     Luminosity distance: 26109.7 Mpc\n",
      "02/05/2024 15:42:28.782     Model and grid symmetry: 3D\n",
      "02/05/2024 15:42:28.782     Photon life cycle: no explicit absorption; with forced scattering\n",
      "02/05/2024 15:42:28.804   Starburst99SEDFamily opened stored table /storage5/scratch/library/SKIRT/resources/SKIRT9_Resources_Core/SED/Starburst99SEDFamily.stab\n",
      "02/05/2024 15:42:28.804   ParticleSource reads smoothed source particles from text file /home/jangjk//part_old.txt...\n",
      "02/05/2024 15:42:28.805     Column 1: position x (kpc) <-- position x\n",
      "02/05/2024 15:42:28.805     Column 2: position y (kpc) <-- position y\n",
      "02/05/2024 15:42:28.805     Column 3: position z (kpc) <-- position z\n",
      "02/05/2024 15:42:28.805     Column 4: size h (pc) <-- smoothing length\n",
      "02/05/2024 15:42:28.805     Column 5: initial mass (Msun) <-- mass\n",
      "02/05/2024 15:42:28.805     Column 6: metallicity (1) <-- metallicity\n",
      "02/05/2024 15:42:28.805     Column 7: age (Gyr) <-- age\n",
      "02/05/2024 15:43:14.259   Done reading\n",
      "02/05/2024 15:43:14.260     Number of particles: 5818241\n",
      "02/05/2024 15:43:14.287   Calculating luminosities for 5818241 imported entities...\n",
      "02/05/2024 15:43:19.326   Calculated luminosities: 14.6%\n",
      "02/05/2024 15:43:24.332   Calculated luminosities: 36.4%\n",
      "02/05/2024 15:43:29.341   Calculated luminosities: 55.7%\n",
      "02/05/2024 15:43:34.366   Calculated luminosities: 74.4%\n",
      "02/05/2024 15:43:39.452   Calculated luminosities: 93.5%\n",
      "02/05/2024 15:43:41.971   BroadBand opened stored table /storage5/scratch/library/SKIRT/resources/SKIRT9_Resources_Core/Band/GALEX_GALEX_FUV_BroadBand.stab\n",
      "02/05/2024 15:43:41.971   BroadBand opened stored table /storage5/scratch/library/SKIRT/resources/SKIRT9_Resources_Core/Band/GALEX_GALEX_NUV_BroadBand.stab\n",
      "02/05/2024 15:43:41.972   BroadBand opened stored table /storage5/scratch/library/SKIRT/resources/SKIRT9_Resources_Core/Band/SLOAN_SDSS_U_BroadBand.stab\n",
      "02/05/2024 15:43:41.972   BroadBand opened stored table /storage5/scratch/library/SKIRT/resources/SKIRT9_Resources_Core/Band/SLOAN_SDSS_G_BroadBand.stab\n",
      "02/05/2024 15:43:41.972   BroadBand opened stored table /storage5/scratch/library/SKIRT/resources/SKIRT9_Resources_Core/Band/SLOAN_SDSS_R_BroadBand.stab\n",
      "02/05/2024 15:43:41.973   BroadBand opened stored table /storage5/scratch/library/SKIRT/resources/SKIRT9_Resources_Core/Band/SLOAN_SDSS_I_BroadBand.stab\n",
      "02/05/2024 15:43:41.973   BroadBand opened stored table /storage5/scratch/library/SKIRT/resources/SKIRT9_Resources_Core/Band/SLOAN_SDSS_Z_BroadBand.stab\n",
      "02/05/2024 15:43:41.973   BroadBand opened stored table /storage5/scratch/library/SKIRT/resources/SKIRT9_Resources_Core/Band/2MASS_2MASS_J_BroadBand.stab\n",
      "02/05/2024 15:43:41.974   BroadBand opened stored table /storage5/scratch/library/SKIRT/resources/SKIRT9_Resources_Core/Band/2MASS_2MASS_H_BroadBand.stab\n",
      "02/05/2024 15:43:41.974   BroadBand opened stored table /storage5/scratch/library/SKIRT/resources/SKIRT9_Resources_Core/Band/2MASS_2MASS_KS_BroadBand.stab\n",
      "02/05/2024 15:43:41.975   FileBand reads transmission curve from text file /storage5/scratch/CustomFilter/JWST/JWST_F356W.txt...\n",
      "02/05/2024 15:43:41.975     Column 1: wavelength (micron)\n",
      "02/05/2024 15:43:41.975     Column 2: transmission value (1)\n",
      "02/05/2024 15:43:41.977   Done reading\n",
      "02/05/2024 15:43:41.977   FileBand reads transmission curve from text file /storage5/scratch/CustomFilter/JWST/JWST_F356W.txt...\n",
      "02/05/2024 15:43:41.977     Column 1: wavelength (micron)\n",
      "02/05/2024 15:43:41.977     Column 2: transmission value (1)\n",
      "02/05/2024 15:43:41.980   Done reading\n",
      "02/05/2024 15:43:41.980   FileBand reads transmission curve from text file /storage5/scratch/CustomFilter/JWST/JWST_F356W.txt...\n",
      "02/05/2024 15:43:41.980     Column 1: wavelength (micron)\n",
      "02/05/2024 15:43:41.980     Column 2: transmission value (1)\n",
      "02/05/2024 15:43:41.982   Done reading\n",
      "02/05/2024 15:43:41.982   FileBand reads transmission curve from text file /storage5/scratch/CustomFilter/JWST/JWST_F356W.txt...\n",
      "02/05/2024 15:43:41.982     Column 1: wavelength (micron)\n",
      "02/05/2024 15:43:41.982     Column 2: transmission value (1)\n",
      "02/05/2024 15:43:41.985   Done reading\n",
      "02/05/2024 15:43:41.985   ConfigurableDustMix opened stored table /storage5/scratch/library/SKIRT/resources/SKIRT9_Resources_Core/OpticalProps/DraineGraphiteOpticalProps.stab\n",
      "02/05/2024 15:43:42.205   ConfigurableDustMix allocated 52.9 KB of memory\n",
      "02/05/2024 15:43:42.205   CellMedium reads cuboidal cells from text file /home/jangjk//gas_cell.txt...\n",
      "02/05/2024 15:43:42.205     Column 1: box xmin (kpc) <-- x-min\n",
      "02/05/2024 15:43:42.205     Column 2: box ymin (kpc) <-- y-min\n",
      "02/05/2024 15:43:42.205     Column 3: box zmin (kpc) <-- z-min\n",
      "02/05/2024 15:43:42.205     Column 4: box xmax (kpc) <-- x-max\n",
      "02/05/2024 15:43:42.205     Column 5: box ymax (kpc) <-- y-max\n",
      "02/05/2024 15:43:42.205     Column 6: box zmax (kpc) <-- z-max\n",
      "02/05/2024 15:43:42.205     Column 7: mass density (Msun/pc3) <-- column 10: small carbonaceous density\n",
      "02/05/2024 15:43:54.333   Done reading\n",
      "02/05/2024 15:43:54.333     Number of cells: 1048395\n",
      "02/05/2024 15:43:54.361     Total original mass : 2.1204e+07 Msun\n",
      "02/05/2024 15:43:54.361     Total effective mass: 2.1204e+07 Msun\n",
      "02/05/2024 15:43:54.370   Constructing intermediate 20x20x20 grid for cells...\n",
      "02/05/2024 15:43:54.589     Smallest number of cells per grid cell: 6\n",
      "02/05/2024 15:43:54.589     Largest  number of cells per grid cell: 7446\n",
      "02/05/2024 15:43:54.589     Average  number of cells per grid cell: 218.8\n",
      "02/05/2024 15:43:54.590   ConfigurableDustMix opened stored table /storage5/scratch/library/SKIRT/resources/SKIRT9_Resources_Core/OpticalProps/DraineGraphiteOpticalProps.stab\n",
      "02/05/2024 15:43:54.819   ConfigurableDustMix allocated 52.9 KB of memory\n",
      "02/05/2024 15:43:54.820   CellMedium reads cuboidal cells from text file /home/jangjk//gas_cell.txt...\n",
      "02/05/2024 15:43:54.820     Column 1: box xmin (kpc) <-- x-min\n",
      "02/05/2024 15:43:54.820     Column 2: box ymin (kpc) <-- y-min\n",
      "02/05/2024 15:43:54.820     Column 3: box zmin (kpc) <-- z-min\n",
      "02/05/2024 15:43:54.820     Column 4: box xmax (kpc) <-- x-max\n",
      "02/05/2024 15:43:54.820     Column 5: box ymax (kpc) <-- y-max\n",
      "02/05/2024 15:43:54.820     Column 6: box zmax (kpc) <-- z-max\n",
      "02/05/2024 15:43:54.820     Column 7: mass density (Msun/pc3) <-- column 11: large carbonaceous density\n",
      "02/05/2024 15:44:08.245   Done reading\n",
      "02/05/2024 15:44:08.245     Number of cells: 1048395\n",
      "02/05/2024 15:44:08.268     Total original mass : 8.8696e+07 Msun\n",
      "02/05/2024 15:44:08.268     Total effective mass: 8.8696e+07 Msun\n",
      "02/05/2024 15:44:08.276   Constructing intermediate 20x20x20 grid for cells...\n",
      "02/05/2024 15:44:08.466     Smallest number of cells per grid cell: 6\n",
      "02/05/2024 15:44:08.466     Largest  number of cells per grid cell: 7446\n",
      "02/05/2024 15:44:08.466     Average  number of cells per grid cell: 218.8\n",
      "02/05/2024 15:44:08.467   ConfigurableDustMix opened stored table /storage5/scratch/library/SKIRT/resources/SKIRT9_Resources_Core/OpticalProps/DraineSilicateOpticalProps.stab\n",
      "02/05/2024 15:44:08.685   ConfigurableDustMix allocated 52.9 KB of memory\n",
      "02/05/2024 15:44:08.686   CellMedium reads cuboidal cells from text file /home/jangjk//gas_cell.txt...\n",
      "02/05/2024 15:44:08.686     Column 1: box xmin (kpc) <-- x-min\n",
      "02/05/2024 15:44:08.686     Column 2: box ymin (kpc) <-- y-min\n",
      "02/05/2024 15:44:08.686     Column 3: box zmin (kpc) <-- z-min\n",
      "02/05/2024 15:44:08.686     Column 4: box xmax (kpc) <-- x-max\n",
      "02/05/2024 15:44:08.686     Column 5: box ymax (kpc) <-- y-max\n",
      "02/05/2024 15:44:08.686     Column 6: box zmax (kpc) <-- z-max\n",
      "02/05/2024 15:44:08.686     Column 7: mass density (Msun/pc3) <-- column 12: small silicates density\n"
     ]
    },
    {
     "name": "stdout",
     "output_type": "stream",
     "text": [
      "02/05/2024 15:44:23.098   Done reading\n",
      "02/05/2024 15:44:23.098     Number of cells: 1048395\n",
      "02/05/2024 15:44:23.139     Total original mass : 1.2619e+07 Msun\n",
      "02/05/2024 15:44:23.139     Total effective mass: 1.2619e+07 Msun\n",
      "02/05/2024 15:44:23.152   Constructing intermediate 20x20x20 grid for cells...\n",
      "02/05/2024 15:44:23.374     Smallest number of cells per grid cell: 6\n",
      "02/05/2024 15:44:23.374     Largest  number of cells per grid cell: 7446\n",
      "02/05/2024 15:44:23.375     Average  number of cells per grid cell: 218.8\n",
      "02/05/2024 15:44:23.377   ConfigurableDustMix opened stored table /storage5/scratch/library/SKIRT/resources/SKIRT9_Resources_Core/OpticalProps/DraineSilicateOpticalProps.stab\n",
      "02/05/2024 15:44:23.596   ConfigurableDustMix allocated 52.9 KB of memory\n",
      "02/05/2024 15:44:23.596   CellMedium reads cuboidal cells from text file /home/jangjk//gas_cell.txt...\n",
      "02/05/2024 15:44:23.597     Column 1: box xmin (kpc) <-- x-min\n",
      "02/05/2024 15:44:23.597     Column 2: box ymin (kpc) <-- y-min\n",
      "02/05/2024 15:44:23.597     Column 3: box zmin (kpc) <-- z-min\n",
      "02/05/2024 15:44:23.597     Column 4: box xmax (kpc) <-- x-max\n",
      "02/05/2024 15:44:23.597     Column 5: box ymax (kpc) <-- y-max\n",
      "02/05/2024 15:44:23.597     Column 6: box zmax (kpc) <-- z-max\n",
      "02/05/2024 15:44:23.597     Column 7: mass density (Msun/pc3) <-- column 13: large silicates density\n",
      "02/05/2024 15:44:39.408   Done reading\n",
      "02/05/2024 15:44:39.408     Number of cells: 1048395\n",
      "02/05/2024 15:44:39.436     Total original mass : 3.7358e+07 Msun\n",
      "02/05/2024 15:44:39.436     Total effective mass: 3.7358e+07 Msun\n",
      "02/05/2024 15:44:39.446   Constructing intermediate 20x20x20 grid for cells...\n",
      "02/05/2024 15:44:39.661     Smallest number of cells per grid cell: 6\n",
      "02/05/2024 15:44:39.661     Largest  number of cells per grid cell: 7446\n",
      "02/05/2024 15:44:39.661     Average  number of cells per grid cell: 218.8\n",
      "02/05/2024 15:44:39.661   Constructing the spatial tree grid...\n",
      "02/05/2024 15:44:39.661   Subdividing level 0: 1 nodes\n",
      "02/05/2024 15:44:39.661   Subdividing level 1: 8 nodes\n",
      "02/05/2024 15:44:39.661   Subdividing level 2: 64 nodes\n",
      "02/05/2024 15:44:39.662   Subdividing tree to insert 1048395 sites\n",
      "02/05/2024 15:44:44.699   Inserting site 869999: 83.0%\n",
      "02/05/2024 15:44:48.623   Finished construction of the spatial tree grid\n",
      "02/05/2024 15:44:48.623   Number of cells at each level in the tree hierarchy:\n",
      "02/05/2024 15:44:48.623     Level  0:        0 (  0.0%)  |\n",
      "02/05/2024 15:44:48.623     Level  1:        0 (  0.0%)  |\n",
      "02/05/2024 15:44:48.624     Level  2:        0 (  0.0%)  |\n",
      "02/05/2024 15:44:48.624     Level  3:      504 (  0.0%)  |\n",
      "02/05/2024 15:44:48.624     Level  4:        3 (  0.0%)  |\n",
      "02/05/2024 15:44:48.624     Level  5:      275 (  0.0%)  |\n",
      "02/05/2024 15:44:48.624     Level  6:      707 (  0.0%)  |\n",
      "02/05/2024 15:44:48.624     Level  7:     2192 (  0.1%)  |\n",
      "02/05/2024 15:44:48.624     Level  8:    10047 (  0.5%)  |\n",
      "02/05/2024 15:44:48.624     Level  9:   245478 ( 13.3%)  |********\n",
      "02/05/2024 15:44:48.624     Level 10:   312882 ( 16.9%)  |***********\n",
      "02/05/2024 15:44:48.624     Level 11:   271411 ( 14.7%)  |*********\n",
      "02/05/2024 15:44:48.624     Level 12:   424572 ( 23.0%)  |***************\n",
      "02/05/2024 15:44:48.624     Level 13:   580448 ( 31.4%)  |********************\n",
      "02/05/2024 15:44:48.624     TOTAL   :  1848519 (100.0%)\n",
      "02/05/2024 15:44:48.693   MediumSystem allocated 70.5 MB of memory\n",
      "02/05/2024 15:44:48.693   Calculating medium properties for 1848519 cells...\n",
      "02/05/2024 15:44:54.326   Calculated medium properties: 2.2%\n",
      "02/05/2024 15:44:59.461   Calculated medium properties: 13.1%\n",
      "02/05/2024 15:45:05.504   Calculated medium properties: 16.9%\n",
      "02/05/2024 15:45:11.316   Calculated medium properties: 20.0%\n",
      "02/05/2024 15:45:17.044   Calculated medium properties: 24.4%\n",
      "02/05/2024 15:45:23.333   Calculated medium properties: 27.5%\n",
      "02/05/2024 15:45:28.349   Calculated medium properties: 28.1%\n",
      "02/05/2024 15:45:33.525   Calculated medium properties: 30.6%\n",
      "02/05/2024 15:45:38.559   Calculated medium properties: 34.4%\n",
      "02/05/2024 15:45:44.085   Calculated medium properties: 40.0%\n",
      "02/05/2024 15:45:49.656   Calculated medium properties: 43.1%\n",
      "02/05/2024 15:45:54.682   Calculated medium properties: 49.4%\n",
      "02/05/2024 15:45:59.943   Calculated medium properties: 57.2%\n",
      "02/05/2024 15:46:05.036   Calculated medium properties: 62.2%\n",
      "02/05/2024 15:46:10.305   Calculated medium properties: 66.2%\n",
      "02/05/2024 15:46:15.724   Calculated medium properties: 69.1%\n",
      "02/05/2024 15:46:21.336   Calculated medium properties: 74.4%\n",
      "02/05/2024 15:46:26.350   Calculated medium properties: 78.4%\n",
      "02/05/2024 15:46:32.168   Calculated medium properties: 80.6%\n",
      "02/05/2024 15:46:40.029   Calculated medium properties: 81.2%\n",
      "02/05/2024 15:46:45.672   Calculated medium properties: 83.1%\n",
      "02/05/2024 15:46:52.966   Calculated medium properties: 85.6%\n",
      "02/05/2024 15:46:58.514   Calculated medium properties: 91.6%\n",
      "02/05/2024 15:47:03.786   Calculated medium properties: 95.0%\n",
      "02/05/2024 15:47:10.862   Calculated medium properties: 96.9%\n",
      "02/05/2024 15:47:17.314   Calculated medium properties: 98.1%\n",
      "02/05/2024 15:47:29.821   Calculated medium properties: 99.4%\n",
      "02/05/2024 15:47:33.236   Done calculating cell densities\n",
      "02/05/2024 15:47:33.245   FullInstrument rot_000_000 allocated 14.6 MB of memory\n",
      "02/05/2024 15:47:33.254   FullInstrument rot_030_000 allocated 14.6 MB of memory\n",
      "02/05/2024 15:47:33.262   FullInstrument rot_060_000 allocated 14.6 MB of memory\n",
      "02/05/2024 15:47:33.271   FullInstrument rot_090_000 allocated 14.6 MB of memory\n",
      "\u001b[32m02/05/2024 15:47:33.271 - Finished setup in 304 s (5m 4s).\n",
      "\u001b[0m02/05/2024 15:47:33.271   Starting setup output...\n",
      "\u001b[32m02/05/2024 15:47:33.271 - Finished setup output in 0.0 s.\n",
      "\u001b[0m02/05/2024 15:47:33.271   Starting the run...\n",
      "02/05/2024 15:47:33.271   Starting primary emission...\n",
      "02/05/2024 15:47:33.271   Launching 4e7 primary emission photon packets\n",
      "02/05/2024 15:47:38.276   Launched primary emission photon packets: 1.5%\n",
      "02/05/2024 15:47:43.277   Launched primary emission photon packets: 3.3%\n",
      "02/05/2024 15:47:48.288   Launched primary emission photon packets: 5.0%\n",
      "02/05/2024 15:47:53.291   Launched primary emission photon packets: 6.7%\n",
      "02/05/2024 15:47:58.292   Launched primary emission photon packets: 8.2%\n",
      "02/05/2024 15:48:03.304   Launched primary emission photon packets: 9.6%\n",
      "02/05/2024 15:48:08.308   Launched primary emission photon packets: 11.0%\n",
      "02/05/2024 15:48:13.310   Launched primary emission photon packets: 12.2%\n",
      "02/05/2024 15:48:18.318   Launched primary emission photon packets: 13.5%\n",
      "02/05/2024 15:48:23.346   Launched primary emission photon packets: 14.6%\n",
      "02/05/2024 15:48:28.386   Launched primary emission photon packets: 15.7%\n",
      "02/05/2024 15:48:33.389   Launched primary emission photon packets: 16.7%\n",
      "02/05/2024 15:48:38.394   Launched primary emission photon packets: 17.6%\n",
      "02/05/2024 15:48:43.403   Launched primary emission photon packets: 18.6%\n",
      "02/05/2024 15:48:48.416   Launched primary emission photon packets: 19.3%\n",
      "02/05/2024 15:48:53.420   Launched primary emission photon packets: 20.3%\n",
      "02/05/2024 15:48:58.423   Launched primary emission photon packets: 21.3%\n",
      "02/05/2024 15:49:03.429   Launched primary emission photon packets: 22.2%\n",
      "02/05/2024 15:49:08.437   Launched primary emission photon packets: 23.2%\n",
      "02/05/2024 15:49:13.444   Launched primary emission photon packets: 24.2%\n",
      "02/05/2024 15:49:18.448   Launched primary emission photon packets: 25.3%\n",
      "02/05/2024 15:49:23.449   Launched primary emission photon packets: 26.3%\n",
      "02/05/2024 15:49:28.474   Launched primary emission photon packets: 27.2%\n",
      "02/05/2024 15:49:33.476   Launched primary emission photon packets: 28.2%\n",
      "02/05/2024 15:49:38.491   Launched primary emission photon packets: 29.1%\n",
      "02/05/2024 15:49:43.506   Launched primary emission photon packets: 30.2%\n",
      "02/05/2024 15:49:48.527   Launched primary emission photon packets: 31.3%\n",
      "02/05/2024 15:49:53.542   Launched primary emission photon packets: 32.4%\n",
      "02/05/2024 15:49:58.544   Launched primary emission photon packets: 33.5%\n",
      "02/05/2024 15:50:03.569   Launched primary emission photon packets: 34.6%\n",
      "02/05/2024 15:50:08.569   Launched primary emission photon packets: 35.6%\n",
      "02/05/2024 15:50:13.572   Launched primary emission photon packets: 36.7%\n"
     ]
    },
    {
     "name": "stdout",
     "output_type": "stream",
     "text": [
      "02/05/2024 15:50:18.573   Launched primary emission photon packets: 37.8%\n",
      "02/05/2024 15:50:23.581   Launched primary emission photon packets: 38.9%\n",
      "02/05/2024 15:50:28.585   Launched primary emission photon packets: 40.0%\n",
      "02/05/2024 15:50:33.592   Launched primary emission photon packets: 41.1%\n",
      "02/05/2024 15:50:38.594   Launched primary emission photon packets: 42.3%\n",
      "02/05/2024 15:50:43.621   Launched primary emission photon packets: 43.4%\n",
      "02/05/2024 15:50:48.632   Launched primary emission photon packets: 44.5%\n",
      "02/05/2024 15:50:53.640   Launched primary emission photon packets: 45.5%\n",
      "02/05/2024 15:50:58.649   Launched primary emission photon packets: 46.3%\n",
      "02/05/2024 15:51:03.651   Launched primary emission photon packets: 47.4%\n",
      "02/05/2024 15:51:08.655   Launched primary emission photon packets: 48.5%\n",
      "02/05/2024 15:51:13.668   Launched primary emission photon packets: 49.4%\n",
      "02/05/2024 15:51:18.683   Launched primary emission photon packets: 50.4%\n",
      "02/05/2024 15:51:23.703   Launched primary emission photon packets: 51.3%\n",
      "02/05/2024 15:51:28.703   Launched primary emission photon packets: 52.2%\n",
      "02/05/2024 15:51:33.703   Launched primary emission photon packets: 53.2%\n",
      "02/05/2024 15:51:38.709   Launched primary emission photon packets: 54.1%\n",
      "02/05/2024 15:51:43.710   Launched primary emission photon packets: 54.8%\n",
      "02/05/2024 15:51:48.741   Launched primary emission photon packets: 55.6%\n",
      "02/05/2024 15:51:53.752   Launched primary emission photon packets: 56.5%\n",
      "02/05/2024 15:51:58.756   Launched primary emission photon packets: 57.3%\n",
      "02/05/2024 15:52:03.790   Launched primary emission photon packets: 58.2%\n",
      "02/05/2024 15:52:08.793   Launched primary emission photon packets: 59.1%\n",
      "02/05/2024 15:52:13.798   Launched primary emission photon packets: 60.0%\n",
      "02/05/2024 15:52:18.798   Launched primary emission photon packets: 60.9%\n",
      "02/05/2024 15:52:23.815   Launched primary emission photon packets: 61.7%\n",
      "02/05/2024 15:52:28.828   Launched primary emission photon packets: 62.7%\n",
      "02/05/2024 15:52:33.871   Launched primary emission photon packets: 63.6%\n",
      "02/05/2024 15:52:38.887   Launched primary emission photon packets: 64.5%\n",
      "02/05/2024 15:52:43.891   Launched primary emission photon packets: 65.5%\n",
      "02/05/2024 15:52:48.898   Launched primary emission photon packets: 66.5%\n",
      "02/05/2024 15:52:53.901   Launched primary emission photon packets: 67.4%\n",
      "02/05/2024 15:52:58.907   Launched primary emission photon packets: 68.2%\n",
      "02/05/2024 15:53:03.920   Launched primary emission photon packets: 69.0%\n",
      "02/05/2024 15:53:08.945   Launched primary emission photon packets: 70.0%\n",
      "02/05/2024 15:53:13.945   Launched primary emission photon packets: 70.9%\n",
      "02/05/2024 15:53:18.955   Launched primary emission photon packets: 72.0%\n",
      "02/05/2024 15:53:23.955   Launched primary emission photon packets: 73.1%\n",
      "02/05/2024 15:53:28.964   Launched primary emission photon packets: 74.3%\n",
      "02/05/2024 15:53:33.991   Launched primary emission photon packets: 75.5%\n",
      "02/05/2024 15:53:38.996   Launched primary emission photon packets: 76.7%\n",
      "02/05/2024 15:53:44.000   Launched primary emission photon packets: 77.8%\n",
      "02/05/2024 15:53:49.014   Launched primary emission photon packets: 79.0%\n",
      "02/05/2024 15:53:54.026   Launched primary emission photon packets: 80.2%\n",
      "02/05/2024 15:53:59.032   Launched primary emission photon packets: 81.4%\n",
      "02/05/2024 15:54:04.037   Launched primary emission photon packets: 82.6%\n",
      "02/05/2024 15:54:09.054   Launched primary emission photon packets: 83.7%\n",
      "02/05/2024 15:54:14.058   Launched primary emission photon packets: 84.8%\n",
      "02/05/2024 15:54:19.062   Launched primary emission photon packets: 85.9%\n",
      "02/05/2024 15:54:24.073   Launched primary emission photon packets: 87.0%\n",
      "02/05/2024 15:54:29.090   Launched primary emission photon packets: 88.0%\n",
      "02/05/2024 15:54:34.103   Launched primary emission photon packets: 89.1%\n",
      "02/05/2024 15:54:39.127   Launched primary emission photon packets: 90.2%\n",
      "02/05/2024 15:54:44.128   Launched primary emission photon packets: 91.3%\n",
      "02/05/2024 15:54:49.137   Launched primary emission photon packets: 92.2%\n",
      "02/05/2024 15:54:54.138   Launched primary emission photon packets: 93.2%\n",
      "02/05/2024 15:54:59.148   Launched primary emission photon packets: 94.5%\n",
      "02/05/2024 15:55:04.157   Launched primary emission photon packets: 95.8%\n",
      "02/05/2024 15:55:09.178   Launched primary emission photon packets: 96.7%\n",
      "02/05/2024 15:55:14.189   Launched primary emission photon packets: 97.6%\n",
      "02/05/2024 15:55:19.202   Launched primary emission photon packets: 98.4%\n",
      "02/05/2024 15:55:24.204   Launched primary emission photon packets: 99.0%\n",
      "02/05/2024 15:55:29.248   Launched primary emission photon packets: 99.3%\n",
      "02/05/2024 15:55:34.309   Launched primary emission photon packets: 99.5%\n",
      "02/05/2024 15:55:39.312   Launched primary emission photon packets: 99.7%\n",
      "02/05/2024 15:55:44.341   Launched primary emission photon packets: 99.8%\n",
      "02/05/2024 15:55:49.353   Launched primary emission photon packets: 99.9%\n",
      "02/05/2024 15:55:54.541   Launched primary emission photon packets: 100.0%\n",
      "\u001b[32m02/05/2024 15:55:57.633 - Finished primary emission in 504 s (8m 24s).\n",
      "\u001b[0m\u001b[32m02/05/2024 15:55:57.633 - Finished the run in 504 s (8m 24s).\n",
      "\u001b[0m02/05/2024 15:55:57.633   Starting final output...\n",
      "02/05/2024 15:55:57.642   FullInstrument rot_000_000 wrote SED to /home/jangjk/result/nh_test_rot_000_000_sed.dat\n",
      "02/05/2024 15:55:57.651   FullInstrument rot_000_000 wrote total flux to FITS file /home/jangjk/result/nh_test_rot_000_000_total.fits\n",
      "02/05/2024 15:55:57.656   FullInstrument rot_000_000 wrote transparent flux to FITS file /home/jangjk/result/nh_test_rot_000_000_transparent.fits\n",
      "02/05/2024 15:55:57.660   FullInstrument rot_000_000 wrote primarydirect flux to FITS file /home/jangjk/result/nh_test_rot_000_000_primarydirect.fits\n",
      "02/05/2024 15:55:57.664   FullInstrument rot_000_000 wrote primaryscattered flux to FITS file /home/jangjk/result/nh_test_rot_000_000_primaryscattered.fits\n",
      "02/05/2024 15:55:57.672   FullInstrument rot_030_000 wrote SED to /home/jangjk/result/nh_test_rot_030_000_sed.dat\n",
      "02/05/2024 15:55:57.677   FullInstrument rot_030_000 wrote total flux to FITS file /home/jangjk/result/nh_test_rot_030_000_total.fits\n",
      "02/05/2024 15:55:57.682   FullInstrument rot_030_000 wrote transparent flux to FITS file /home/jangjk/result/nh_test_rot_030_000_transparent.fits\n",
      "02/05/2024 15:55:57.686   FullInstrument rot_030_000 wrote primarydirect flux to FITS file /home/jangjk/result/nh_test_rot_030_000_primarydirect.fits\n",
      "02/05/2024 15:55:57.690   FullInstrument rot_030_000 wrote primaryscattered flux to FITS file /home/jangjk/result/nh_test_rot_030_000_primaryscattered.fits\n",
      "02/05/2024 15:55:57.698   FullInstrument rot_060_000 wrote SED to /home/jangjk/result/nh_test_rot_060_000_sed.dat\n",
      "02/05/2024 15:55:57.703   FullInstrument rot_060_000 wrote total flux to FITS file /home/jangjk/result/nh_test_rot_060_000_total.fits\n",
      "02/05/2024 15:55:57.707   FullInstrument rot_060_000 wrote transparent flux to FITS file /home/jangjk/result/nh_test_rot_060_000_transparent.fits\n",
      "02/05/2024 15:55:57.711   FullInstrument rot_060_000 wrote primarydirect flux to FITS file /home/jangjk/result/nh_test_rot_060_000_primarydirect.fits\n",
      "02/05/2024 15:55:57.716   FullInstrument rot_060_000 wrote primaryscattered flux to FITS file /home/jangjk/result/nh_test_rot_060_000_primaryscattered.fits\n",
      "02/05/2024 15:55:57.724   FullInstrument rot_090_000 wrote SED to /home/jangjk/result/nh_test_rot_090_000_sed.dat\n",
      "02/05/2024 15:55:57.729   FullInstrument rot_090_000 wrote total flux to FITS file /home/jangjk/result/nh_test_rot_090_000_total.fits\n",
      "02/05/2024 15:55:57.733   FullInstrument rot_090_000 wrote transparent flux to FITS file /home/jangjk/result/nh_test_rot_090_000_transparent.fits\n",
      "02/05/2024 15:55:57.738   FullInstrument rot_090_000 wrote primarydirect flux to FITS file /home/jangjk/result/nh_test_rot_090_000_primarydirect.fits\n",
      "02/05/2024 15:55:57.742   FullInstrument rot_090_000 wrote primaryscattered flux to FITS file /home/jangjk/result/nh_test_rot_090_000_primaryscattered.fits\n",
      "\u001b[32m02/05/2024 15:55:57.742 - Finished final output in 0.1 s.\n",
      "\u001b[0m\u001b[32m02/05/2024 15:55:57.742 - Finished simulation nh_test using 40 threads and a single process in 809 s (13m 29s).\n"
     ]
    },
    {
     "name": "stdout",
     "output_type": "stream",
     "text": [
      "\u001b[0m02/05/2024 15:56:02.912   Available memory: 315 GB -- Peak memory usage: 2.36 GB (0.8%)\n"
     ]
    }
   ],
   "source": [
    "gskirt.utils.execute_SKIRT.make_INSKI(\n",
    "                                   boxtokpc=boxtokpc,\n",
    "                                   x_s=star['x'],y_s=star['y'],z_s=star['z'],\n",
    "                                   vx_s=star['vx','km/s'],vy_s=star['vy','km/s'],vz_s=star['vz','km/s'],\n",
    "                                   m_s=star['m','Msun'],m0_s=star['m0','Msun'],\n",
    "                                   age_s=star['age','Gyr'],metal_s=star['metal'],\n",
    "                                   x_c=cell['x'],y_c=cell['y'],z_c=cell['z'],lvl_c=cell['level'],\n",
    "                                   vx_c=cell['vx','km/s'],vy_c=cell['vy','km/s'],vz_c=cell['vz','km/s'],\n",
    "                                   m_c=cell['m','Msun'],\n",
    "                                   T_c=cell['T','K'],metal_c=cell['metal'],\n",
    "                                   param=par,\n",
    "                                   pos_ctr=[gal['x'],gal['y'],gal['z']],\n",
    "                                   vel_ctr=[gal['vx'],gal['vy'],gal['vz']],\n",
    "                                   mC_small=mC_small,\n",
    "                                   mC_large=mC_large,\n",
    "                                   mSil_small=mSil_small,\n",
    "                                   mSil_large=mSil_large,\n",
    "                                  )\n"
   ]
  },
  {
   "cell_type": "code",
   "execution_count": null,
   "metadata": {
    "ExecuteTime": {
     "end_time": "2023-07-21T05:38:24.899473Z",
     "start_time": "2023-07-21T05:38:24.895031Z"
    }
   },
   "outputs": [],
   "source": []
  }
 ],
 "metadata": {
  "kernelspec": {
   "display_name": "Python 3",
   "language": "python",
   "name": "python3"
  },
  "language_info": {
   "codemirror_mode": {
    "name": "ipython",
    "version": 3
   },
   "file_extension": ".py",
   "mimetype": "text/x-python",
   "name": "python",
   "nbconvert_exporter": "python",
   "pygments_lexer": "ipython3",
   "version": "3.8.5"
  },
  "toc": {
   "base_numbering": 1,
   "nav_menu": {},
   "number_sections": true,
   "sideBar": true,
   "skip_h1_title": false,
   "title_cell": "Table of Contents",
   "title_sidebar": "Contents",
   "toc_cell": false,
   "toc_position": {
    "height": "calc(100% - 180px)",
    "left": "10px",
    "top": "150px",
    "width": "229.764px"
   },
   "toc_section_display": true,
   "toc_window_display": false
  }
 },
 "nbformat": 4,
 "nbformat_minor": 4
}
